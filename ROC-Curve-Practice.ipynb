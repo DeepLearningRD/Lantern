{
 "cells": [
  {
   "cell_type": "code",
   "execution_count": 14,
   "metadata": {
    "collapsed": true
   },
   "outputs": [],
   "source": [
    "import numpy as np\n",
    "import pandas as pd\n",
    "\n",
    "import matplotlib.pyplot as plt\n",
    "%matplotlib inline\n",
    "\n",
    "import seaborn as sns\n",
    "from IPython.core.pylabtools import figsize\n",
    "figsize(10, 8)"
   ]
  },
  {
   "cell_type": "markdown",
   "metadata": {},
   "source": [
    "### Confusion Matrix Numbers"
   ]
  },
  {
   "cell_type": "code",
   "execution_count": 15,
   "metadata": {
    "collapsed": true
   },
   "outputs": [],
   "source": [
    "# Step 1: create a dataframe  from slide 61\n",
    "# results = "
   ]
  },
  {
   "cell_type": "markdown",
   "metadata": {},
   "source": [
    "#### complete the following steps"
   ]
  },
  {
   "cell_type": "code",
   "execution_count": 22,
   "metadata": {
    "collapsed": true
   },
   "outputs": [],
   "source": [
    "roc = pd.DataFrame(index = results['threshold'], columns=['recall', 'precision', 'f1', 'tpr', 'fpr'])\n",
    "\n",
    "for item_value in results.iterrows():\n",
    "    \n",
    "    #\n",
    "    #\n",
    "    #  STEP 2: Write your own code to calculate recall, precision, f1, tpr and fpr (15)\n",
    "    #\n",
    "    #\n",
    "    pass\n"
   ]
  },
  {
   "cell_type": "code",
   "execution_count": 24,
   "metadata": {},
   "outputs": [],
   "source": [
    "roc.reset_index()"
   ]
  },
  {
   "cell_type": "markdown",
   "metadata": {},
   "source": [
    "### Receiver Operating Characteristic Curve"
   ]
  },
  {
   "cell_type": "code",
   "execution_count": null,
   "metadata": {
    "collapsed": true
   },
   "outputs": [],
   "source": [
    "figsize(10, 8)\n",
    "\n",
    "plt.style.use('seaborn-dark-palette')\n",
    "\n",
    "thresholds = [str(t) for t in results['threshold']]\n",
    "\n",
    "# Step 3: Write a line of code to plot the roc curve (5)\n",
    "\n",
    "\n",
    "# Step 4: add another line for naive classifier (5)\n",
    "\n",
    "\n",
    "# Step 5: write threshold values at each point when drawing the curve (5)\n",
    "\n",
    "\n",
    "plt.legend(prop={'size':14})\n",
    "plt.ylabel('True Positive Rate', size = 16); plt.xlabel('False Positive Rate', size = 16);\n",
    "plt.title('Receiver Operating Characteristic Curve', size = 20);"
   ]
  }
 ],
 "metadata": {
  "kernelspec": {
   "display_name": "Python 2",
   "language": "python",
   "name": "python2"
  },
  "language_info": {
   "codemirror_mode": {
    "name": "ipython",
    "version": 2
   },
   "file_extension": ".py",
   "mimetype": "text/x-python",
   "name": "python",
   "nbconvert_exporter": "python",
   "pygments_lexer": "ipython2",
   "version": "2.7.13"
  }
 },
 "nbformat": 4,
 "nbformat_minor": 2
}
