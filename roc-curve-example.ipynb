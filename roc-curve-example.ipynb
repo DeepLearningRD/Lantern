{
 "cells": [
  {
   "cell_type": "code",
   "execution_count": null,
   "metadata": {
    "collapsed": true
   },
   "outputs": [],
   "source": [
    "import numpy as np\n",
    "import pandas as pd\n",
    "\n",
    "import matplotlib.pyplot as plt\n",
    "%matplotlib inline\n",
    "\n",
    "import seaborn as sns\n",
    "from IPython.core.pylabtools import figsize\n",
    "figsize(10, 8)\n",
    "\n",
    "results = pd.DataFrame({'threshold': [0.0, 0.1, 0.2, 0.3, 0.4, 0.5, 0.6, 0.7, 0.8, 0.9, 1.0],\n",
    "\t\t\t\t\t\t'tp': [50, 48, 47, 45, 44, 42, 36,  30,  20, 12, 0],\n",
    "\t\t\t\t\t\t'fp': [50, 47, 40, 31, 23, 16, 12,  11,   4,  3,  0],\n",
    "\t\t\t\t\t\t'tn': [0,   3,  9, 16, 22, 29, 34,  38,  43, 45, 50],\n",
    "\t\t\t\t\t\t'fn': [0,   2,  4,  8, 11, 13, 18,  21,  33, 40, 50]\n",
    "\t\t\t\t\t   })\n",
    "\n",
    "\n",
    "roc = pd.DataFrame(index = results['threshold'], columns=['recall', 'precision', 'f1', 'tpr', 'fpr'])\n",
    "\n",
    "for item_value in results.iterrows():\n",
    "\n",
    "\tfn, fp, thres, tn, tp = item_value[1]\n",
    "\n",
    "\tassert tp + fp + tn + fn == 100\n",
    "\n",
    "\trecall = tp /(tp + fn)\n",
    "\n",
    "\tprecision =  0 if tp == fp == 0 else tp / (tp + fp)\n",
    "\ttrue_positive_rate = 0 if tp == fp == 0 else tp / (tp + fn)\n",
    "\n",
    "\tf1 = 0 if precision == recall == 0 else 2 * (precision * recall) / (precision + recall)\n",
    "\n",
    "\tfalse_positive_rate = fp / (fp + tn)\n",
    "\n",
    "\troc.ix[thres, 'recall'] = recall\n",
    "\troc.ix[thres, 'precision'] = precision\n",
    "\troc.ix[thres, 'f1'] = f1\n",
    "\troc.ix[thres, 'tpr'] = true_positive_rate\n",
    "\troc.ix[thres, 'fpr'] = false_positive_rate\n",
    "\n",
    "\n",
    "roc.reset_index()\n",
    "\n",
    "\n",
    "figsize(10, 8)\n",
    "plt.style.use('seaborn-dark-palette')\n",
    "\n",
    "thresholds = [str(t) for t in results['threshold']]\n",
    "\n",
    "plt.plot(roc['fpr'], roc['tpr'], 'bo-', label = 'model');\n",
    "plt.plot(list(np.linspace(0, 1, num = 10)), list(np.linspace(0, 1, num = 10)), 'ro--', label = 'naive classifier');\n",
    "\n",
    "\n",
    "for x, y, s in zip(roc['fpr'], roc['tpr'], thresholds):\n",
    "\tplt.text(x - 0.04,y + 0.02, s, fontdict={'size': 14});\n",
    "\n",
    "plt.legend(prop={'size':14})\n",
    "plt.ylabel('True Positive Rate', size = 16); plt.xlabel('False Positive Rate', size = 16);\n",
    "plt.title('Receiver Operating Characteristic Curve', size = 20);\n",
    "\n",
    "plt.show()\n"
   ]
  }
 ],
 "metadata": {
  "kernelspec": {
   "display_name": "Python 2",
   "language": "python",
   "name": "python2"
  },
  "language_info": {
   "codemirror_mode": {
    "name": "ipython",
    "version": 2
   },
   "file_extension": ".py",
   "mimetype": "text/x-python",
   "name": "python",
   "nbconvert_exporter": "python",
   "pygments_lexer": "ipython2",
   "version": "2.7.13"
  }
 },
 "nbformat": 4,
 "nbformat_minor": 2
}
